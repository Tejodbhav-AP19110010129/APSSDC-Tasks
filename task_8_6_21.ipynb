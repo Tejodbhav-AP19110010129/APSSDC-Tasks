{
 "cells": [
  {
   "cell_type": "code",
   "execution_count": 21,
   "metadata": {
    "scrolled": true
   },
   "outputs": [
    {
     "name": "stdout",
     "output_type": "stream",
     "text": [
      "Enter age: 20\n",
      "Eligible for vote\n"
     ]
    }
   ],
   "source": [
    "# program to check wheather the user is eligible for vote or not.\n",
    "\n",
    "def is_eligible(age):\n",
    "    if age > 18:\n",
    "        return \"Eligible for vote\"\n",
    "    return \"Not eligible for vote\"\n",
    "print(is_eligible(int(input(\"Enter age: \"))))"
   ]
  },
  {
   "cell_type": "code",
   "execution_count": 22,
   "metadata": {},
   "outputs": [
    {
     "name": "stdout",
     "output_type": "stream",
     "text": [
      "Enter Number: 24\n",
      "Number is positive\n"
     ]
    }
   ],
   "source": [
    "# Program to check the given number is positive or negative\n",
    "\n",
    "def is_positive(num):\n",
    "    if num == 0:\n",
    "        return \"Number is neither positive nor negative\"\n",
    "    if num > 0:\n",
    "        return \"Number is positive\"\n",
    "    return \"Number is negative\"\n",
    "print(is_positive(int(input(\"Enter Number: \"))))"
   ]
  },
  {
   "cell_type": "code",
   "execution_count": 23,
   "metadata": {},
   "outputs": [
    {
     "name": "stdout",
     "output_type": "stream",
     "text": [
      "Enter Number: 24\n",
      "Number is even and divisible by 4\n"
     ]
    }
   ],
   "source": [
    "# Program to check the given number is even or odd and if it's even check whether it is divisible by 4 or not.\n",
    "\n",
    "def even_or_odd(num):\n",
    "    if num % 2 == 0:\n",
    "        if num % 4 == 0:\n",
    "            return \"Number is even and divisible by 4\"\n",
    "        return \"Number is even but not divisible by 4\"\n",
    "    return \"Number is odd\"\n",
    "\n",
    "print(even_or_odd(int(input(\"Enter Number: \"))))"
   ]
  },
  {
   "cell_type": "code",
   "execution_count": 24,
   "metadata": {},
   "outputs": [
    {
     "name": "stdout",
     "output_type": "stream",
     "text": [
      "Enter Percentage: 96\n",
      "Distinction\n"
     ]
    }
   ],
   "source": [
    "# Program to print student grade based on percentage like Distinction,pass or fail\n",
    "\n",
    "def grade(percentage):\n",
    "    if percentage > 90:\n",
    "        return \"Distinction\"\n",
    "    if percentage > 40:\n",
    "        return \"Pass\"\n",
    "    return \"Fail\"\n",
    "print(grade(int(input(\"Enter Percentage: \"))))"
   ]
  },
  {
   "cell_type": "code",
   "execution_count": 25,
   "metadata": {},
   "outputs": [
    {
     "name": "stdout",
     "output_type": "stream",
     "text": [
      "Enter year: 2002\n",
      "Not a leap year\n"
     ]
    }
   ],
   "source": [
    "# Program to Check the given year is Leap or not\n",
    "\n",
    "def is_leap_year(year):\n",
    "    if year % 4 == 0:\n",
    "        if year % 100 == 0:\n",
    "            if year % 400 == 0:\n",
    "                print(\"A leap year\")\n",
    "            else:\n",
    "                print(\"Not a leap year\")\n",
    "        else:\n",
    "            print(\"A leap year\")\n",
    "    else:\n",
    "        print(\"Not a leap year\")\n",
    "is_leap_year(int(input(\"Enter year: \")))"
   ]
  }
 ],
 "metadata": {
  "kernelspec": {
   "display_name": "Python 3",
   "language": "python",
   "name": "python3"
  },
  "language_info": {
   "codemirror_mode": {
    "name": "ipython",
    "version": 3
   },
   "file_extension": ".py",
   "mimetype": "text/x-python",
   "name": "python",
   "nbconvert_exporter": "python",
   "pygments_lexer": "ipython3",
   "version": "3.7.6"
  }
 },
 "nbformat": 4,
 "nbformat_minor": 4
}
